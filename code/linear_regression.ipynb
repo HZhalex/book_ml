{
 "cells": [
  {
   "cell_type": "code",
   "execution_count": 4,
   "metadata": {
    "executionInfo": {
     "elapsed": 8,
     "status": "ok",
     "timestamp": 1745315650044,
     "user": {
      "displayName": "hưng hoàng",
      "userId": "09018587544555875926"
     },
     "user_tz": -420
    },
    "id": "stUmGMKH6Ceb"
   },
   "outputs": [],
   "source": [
    "import numpy as np\n",
    "import pandas as pd\n",
    "import matplotlib.pyplot as plt\n",
    "from sklearn.linear_model import LinearRegression"
   ]
  },
  {
   "cell_type": "code",
   "execution_count": 28,
   "metadata": {
    "collapsed": true,
    "executionInfo": {
     "elapsed": 4,
     "status": "ok",
     "timestamp": 1745316936911,
     "user": {
      "displayName": "hưng hoàng",
      "userId": "09018587544555875926"
     },
     "user_tz": -420
    },
    "id": "bsxs_Lzi6kfr"
   },
   "outputs": [],
   "source": [
    "X = np.array([[147,150,153,155,158,160,163,165,168,170,173,175,178,180,183]]).T\n",
    "y = np.array([49,50,51,52,54,56,58,59,60,62,63,64,66,67,68])\n",
    "# print(X)"
   ]
  },
  {
   "cell_type": "code",
   "execution_count": 29,
   "metadata": {
    "executionInfo": {
     "elapsed": 3,
     "status": "ok",
     "timestamp": 1745316938277,
     "user": {
      "displayName": "hưng hoàng",
      "userId": "09018587544555875926"
     },
     "user_tz": -420
    },
    "id": "2NSEdWoI6kiB"
   },
   "outputs": [],
   "source": [
    "one = np.ones((X.shape[0], 1))\n",
    "Xbar = np.concatenate((one, X), axis = 1)"
   ]
  },
  {
   "cell_type": "code",
   "execution_count": 30,
   "metadata": {
    "collapsed": true,
    "executionInfo": {
     "elapsed": 4,
     "status": "ok",
     "timestamp": 1745316943907,
     "user": {
      "displayName": "hưng hoàng",
      "userId": "09018587544555875926"
     },
     "user_tz": -420
    },
    "id": "mF_KrDYK6kkd"
   },
   "outputs": [],
   "source": [
    "# print(one)\n",
    "# print(Xbar)\n",
    "# np.linalg.pinv"
   ]
  },
  {
   "cell_type": "code",
   "execution_count": 31,
   "metadata": {
    "colab": {
     "base_uri": "https://localhost:8080/"
    },
    "executionInfo": {
     "elapsed": 6,
     "status": "ok",
     "timestamp": 1745316945476,
     "user": {
      "displayName": "hưng hoàng",
      "userId": "09018587544555875926"
     },
     "user_tz": -420
    },
    "id": "CJIdulPQ6kmx",
    "outputId": "f3990d8c-5e43-4591-c575-c438f3f7cf38"
   },
   "outputs": [
    {
     "name": "stdout",
     "output_type": "stream",
     "text": [
      "-34.54231974893451 0.5638154948482904\n"
     ]
    }
   ],
   "source": [
    "h = np.dot(Xbar.T , Xbar)\n",
    "A = np.dot(Xbar.T , y)\n",
    "w = np.dot(np.linalg.pinv(h) , A)\n",
    "w_0 , w_1 = w[0] , w[1]\n",
    "print(w_0 , w_1)"
   ]
  },
  {
   "cell_type": "code",
   "execution_count": 32,
   "metadata": {
    "colab": {
     "base_uri": "https://localhost:8080/",
     "height": 430
    },
    "collapsed": true,
    "executionInfo": {
     "elapsed": 236,
     "status": "ok",
     "timestamp": 1745316948043,
     "user": {
      "displayName": "hưng hoàng",
      "userId": "09018587544555875926"
     },
     "user_tz": -420
    },
    "id": "BmgskIb76kpI",
    "outputId": "a903d66d-2386-49e4-adc3-756e36adc525"
   },
   "outputs": [
    {
     "data": {
      "image/png": "[encoded data removed]",
      "text/plain": [
       "<Figure size 640x480 with 1 Axes>"
      ]
     },
     "metadata": {},
     "output_type": "display_data"
    }
   ],
   "source": [
    "fig ,ax = plt.subplots()\n",
    "ax.plot(X , y,'o', markeredgewidth=2)\n",
    "plt.show()"
   ]
  },
  {
   "cell_type": "code",
   "execution_count": 33,
   "metadata": {
    "colab": {
     "base_uri": "https://localhost:8080/"
    },
    "executionInfo": {
     "elapsed": 43,
     "status": "ok",
     "timestamp": 1745317166737,
     "user": {
      "displayName": "hưng hoàng",
      "userId": "09018587544555875926"
     },
     "user_tz": -420
    },
    "id": "3qNd_9QZ_VWg",
    "outputId": "cc43dbf5-22eb-440c-cb1b-2bb76a8d71af"
   },
   "outputs": [
    {
     "name": "stdout",
     "output_type": "stream",
     "text": [
      "52.8490819525505 55.66815942679195\n"
     ]
    }
   ],
   "source": [
    "y1 = w_1 * 155 + w_0\n",
    "y2 = w_1 * 160 + w_0\n",
    "print(y1,y2)"
   ]
  },
  {
   "cell_type": "code",
   "execution_count": 36,
   "metadata": {
    "colab": {
     "base_uri": "https://localhost:8080/"
    },
    "executionInfo": {
     "elapsed": 12,
     "status": "ok",
     "timestamp": 1745317335229,
     "user": {
      "displayName": "hưng hoàng",
      "userId": "09018587544555875926"
     },
     "user_tz": -420
    },
    "id": "Bc4CrcpWAoTI",
    "outputId": "66f2166d-bd54-4232-f3a5-e9fa620ba5a7"
   },
   "outputs": [
    {
     "data": {
      "text/plain": [
       "0.993483146278687"
      ]
     },
     "execution_count": 36,
     "metadata": {},
     "output_type": "execute_result"
    }
   ],
   "source": [
    "reg = LinearRegression().fit(X,y)\n",
    "reg.score(X,y)"
   ]
  },
  {
   "cell_type": "code",
   "execution_count": 39,
   "metadata": {
    "colab": {
     "base_uri": "https://localhost:8080/"
    },
    "executionInfo": {
     "elapsed": 8,
     "status": "ok",
     "timestamp": 1745317439231,
     "user": {
      "displayName": "hưng hoàng",
      "userId": "09018587544555875926"
     },
     "user_tz": -420
    },
    "id": "pdSdahftAoVr",
    "outputId": "88c830c6-c5a3-4cd5-846b-d924c1b29363"
   },
   "outputs": [
    {
     "name": "stdout",
     "output_type": "stream",
     "text": [
      "[52.84908195] [55.66815943]\n"
     ]
    }
   ],
   "source": [
    "y_1 = reg.predict(np.array([[160]]))\n",
    "y_0 = reg.predict(np.array([[155]]))\n",
    "print(y_0,y_1)"
   ]
  },
  {
   "cell_type": "code",
   "execution_count": 40,
   "metadata": {
    "colab": {
     "base_uri": "https://localhost:8080/"
    },
    "executionInfo": {
     "elapsed": 4,
     "status": "ok",
     "timestamp": 1745317538011,
     "user": {
      "displayName": "hưng hoàng",
      "userId": "09018587544555875926"
     },
     "user_tz": -420
    },
    "id": "UH0b8VtoAoaj",
    "outputId": "ee69ce24-6a89-400b-e50e-52409a05c0f2"
   },
   "outputs": [
    {
     "name": "stdout",
     "output_type": "stream",
     "text": [
      "w_1 =  0.5638154948499775 w_0 -34.54231974921628\n"
     ]
    }
   ],
   "source": [
    "print(\"w_1 = \",reg.coef_[0], \"w_0\", reg.intercept_)"
   ]
  },
  {
   "cell_type": "code",
   "execution_count": null,
   "metadata": {
    "colab": {
     "base_uri": "https://localhost:8080/",
     "height": 607
    },
    "executionInfo": {
     "elapsed": 494,
     "status": "ok",
     "timestamp": 1745317651752,
     "user": {
      "displayName": "hưng hoàng",
      "userId": "09018587544555875926"
     },
     "user_tz": -420
    },
    "id": "NxEEoTA0AodF",
    "outputId": "57f6ef5d-788e-468d-ad06-f259f21cbf5f"
   },
   "outputs": [
    {
     "data": {
      "image/png": "[encoded data removed]",
      "text/plain": [
       "<Figure size 800x600 with 1 Axes>"
      ]
     },
     "metadata": {},
     "output_type": "display_data"
    }
   ],
   "source": [
    "import matplotlib.pyplot as plt\n",
    "import numpy as np\n",
    "\n",
    "# Dữ liệu mẫu (ước lượng từ hình ảnh)\n",
    "chieu_cao = [145, 150, 152, 155, 158, 162, 165, 168, 172, 175, 178, 182, 185]\n",
    "can_nang = [49, 50, 51, 52, 54, 58, 60, 62, 64, 66, 67, 68, 69]\n",
    "\n",
    "# Tạo figure với kích thước xác định\n",
    "plt.figure(figsize=(8, 6))\n",
    "\n",
    "# Vẽ các điểm dữ liệu\n",
    "plt.scatter(chieu_cao, can_nang, marker='o', label='dữ liệu huấn luyện')\n",
    "\n",
    "# Tạo mô hình hồi quy tuyến tính\n",
    "coef = np.polyfit(chieu_cao, can_nang, 1)\n",
    "# Tham số thứ ba 1 là bậc của đa thức (1 = hàm tuyến tính y = ax + b)\n",
    "# Hàm np.polyfit() thực hiện việc tìm hệ số cho đa thức bậc n phù hợp nhất với dữ liệu theo phương pháp bình phương tối thiểu\n",
    "# Kết quả trả về coef là một mảng chứa các hệ số của đa thức, trong trường hợp này là [a, b] cho hàm y = ax + b\n",
    "poly1d_fn = np.poly1d(coef)\n",
    "# Hàm np.poly1d() tạo một hàm đa thức từ các hệ số đã tìm được\n",
    "# Tham số coef là mảng các hệ số từ bước trước\n",
    "# Kết quả poly1d_fn là một hàm đa thức mà khi gọi poly1d_fn(x) sẽ trả về giá trị y tương ứng\n",
    "x_range = np.array([min(chieu_cao), max(chieu_cao)])\n",
    "\n",
    "# Vẽ đường mô hình\n",
    "plt.plot(x_range, poly1d_fn(x_range), linewidth=2, label='mô hình tìm được')\n",
    "\n",
    "# Thiết lập các thông số cho biểu đồ\n",
    "plt.xlim(140, 190)\n",
    "plt.ylim(45, 75)\n",
    "plt.xlabel('chiều cao (cm)')\n",
    "plt.ylabel('cân nặng (kg)')\n",
    "plt.legend()\n",
    "\n",
    "# Hiển thị biểu đồ\n",
    "plt.tight_layout()\n",
    "plt.show()"
   ]
  },
  {
   "cell_type": "code",
   "execution_count": null,
   "metadata": {
    "id": "z081M0PGAof1"
   },
   "outputs": [],
   "source": []
  },
  {
   "cell_type": "code",
   "execution_count": null,
   "metadata": {
    "id": "Er53hAsWAoic"
   },
   "outputs": [],
   "source": []
  },
  {
   "cell_type": "code",
   "execution_count": null,
   "metadata": {
    "id": "IIrLcNdxAok-"
   },
   "outputs": [],
   "source": []
  },
  {
   "cell_type": "code",
   "execution_count": null,
   "metadata": {
    "id": "Ya_QIfZAAoni"
   },
   "outputs": [],
   "source": []
  }
 ],
 "metadata": {
  "colab": {
   "authorship_tag": "ABX9TyNbqwseyp/+edDs7QzUWF5X",
   "provenance": []
  },
  "kernelspec": {
   "display_name": "Python 3",
   "name": "python3"
  },
  "language_info": {
   "name": "python"
  }
 },
 "nbformat": 4,
 "nbformat_minor": 0
}
